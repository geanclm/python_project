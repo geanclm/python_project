{
 "cells": [
  {
   "cell_type": "code",
   "execution_count": 97,
   "id": "45642c3c-4007-4db4-90ea-7ff3c86f5e98",
   "metadata": {},
   "outputs": [],
   "source": [
    "# by geanclm on 02/02/2024"
   ]
  },
  {
   "cell_type": "code",
   "execution_count": 5,
   "id": "954ac313-58d0-4710-956b-f5d2ae8e517e",
   "metadata": {},
   "outputs": [],
   "source": [
    "# pip install selenium pyautogui\n",
    "# pip install webdriver-manager"
   ]
  },
  {
   "cell_type": "code",
   "execution_count": 109,
   "id": "774b9d3d-8663-4c1f-9988-b606a15084ea",
   "metadata": {},
   "outputs": [],
   "source": [
    "from selenium import webdriver\n",
    "from webdriver_manager.microsoft import EdgeChromiumDriverManager\n",
    "from selenium.webdriver.edge.service import Service\n",
    "from selenium.webdriver.common.by import By\n",
    "import pyautogui\n",
    "\n",
    "import time\n",
    "from datetime import datetime, timedelta\n",
    "\n",
    "import pyperclip\n",
    "import pandas as pd\n",
    "# import re"
   ]
  },
  {
   "cell_type": "code",
   "execution_count": 110,
   "id": "d53fc9a2-cae6-440f-a468-e26f58d4a749",
   "metadata": {},
   "outputs": [],
   "source": [
    "# Avaliar o tempo de execução de cada modelo\n",
    "def hora():\n",
    "    agora = datetime.now()\n",
    "    hoje = agora - timedelta(days=0) # se precisar aprsentar a data do dia anterior basta inserir o '1' no lugar do '0'\n",
    "    print(hoje.strftime(\"%Y-%m-%d\") + ' ' + agora.strftime(\"%H:%M:%S\"))"
   ]
  },
  {
   "cell_type": "code",
   "execution_count": 96,
   "id": "e1092e6f-1393-49cb-9cb0-f409b9dd5d40",
   "metadata": {},
   "outputs": [
    {
     "name": "stdout",
     "output_type": "stream",
     "text": [
      "Point(x=1431, y=573)\n"
     ]
    }
   ],
   "source": [
    "# verificar posicionamento do cursor\n",
    "time.sleep(5)\n",
    "print(pyautogui.position())"
   ]
  },
  {
   "cell_type": "code",
   "execution_count": 139,
   "id": "2ac920f2-088f-4283-9783-401cd5f998ab",
   "metadata": {},
   "outputs": [
    {
     "name": "stdout",
     "output_type": "stream",
     "text": [
      "2024-02-02 22:53:22\n",
      "2024-02-02 22:55:30\n"
     ]
    }
   ],
   "source": [
    "hora()\n",
    "link = 'https://loterias.caixa.gov.br/Paginas/Loteca.aspx'\n",
    "# servico = Service(EdgeChromiumDriverManager().install())\n",
    "# navegador = webdriver.Edge(service=servico)\n",
    "service = Service()\n",
    "options = webdriver.EdgeOptions()\n",
    "navegador = webdriver.Edge(service=service, options=options)\n",
    "\n",
    "navegador.get(link)\n",
    "navegador.maximize_window()\n",
    "time.sleep(5)\n",
    "navegador.find_element('xpath','//*[@id=\"adopt-accept-all-button\"]').click()\n",
    "time.sleep(5)\n",
    "\n",
    "\n",
    "# Salvar dados da webpage em lista local\n",
    "resultados = []\n",
    "for i in range(25):\n",
    "    navegador.find_element('xpath', '//*[@id=\"buscaConcurso\"]').send_keys(str(i+1))\n",
    "    pyautogui.press('enter')\n",
    "    time.sleep(2)    \n",
    "    resultados.append(navegador.find_element(By.XPATH, '//*[@id=\"wp_resultados\"]/div[1]/div/h2/span').text)\n",
    "    time.sleep(2)\n",
    "    pyautogui.doubleClick(x=1431, y=573)\n",
    "\n",
    "\n",
    "# Salvar lista em dataframe\n",
    "# Função para extrair o número do concurso e a data usando expressões regulares\n",
    "def extrair_info(resultado):\n",
    "    match = re.search(r'Concurso (\\d+).*\\((\\d{2}/\\d{2}/\\d{4})\\)', resultado)\n",
    "    if match:\n",
    "        return match.group(1), match.group(2)\n",
    "    return None, None\n",
    "\n",
    "dados = [extrair_info(resultado) for resultado in resultados]\n",
    "df = pd.DataFrame(dados, columns=['concurso', 'data'])\n",
    "hora()"
   ]
  },
  {
   "cell_type": "code",
   "execution_count": 140,
   "id": "7fe3635b-440e-4899-82a6-0ac915d8caeb",
   "metadata": {},
   "outputs": [
    {
     "data": {
      "text/html": [
       "<div>\n",
       "<style scoped>\n",
       "    .dataframe tbody tr th:only-of-type {\n",
       "        vertical-align: middle;\n",
       "    }\n",
       "\n",
       "    .dataframe tbody tr th {\n",
       "        vertical-align: top;\n",
       "    }\n",
       "\n",
       "    .dataframe thead th {\n",
       "        text-align: right;\n",
       "    }\n",
       "</style>\n",
       "<table border=\"1\" class=\"dataframe\">\n",
       "  <thead>\n",
       "    <tr style=\"text-align: right;\">\n",
       "      <th></th>\n",
       "      <th>concurso</th>\n",
       "      <th>data</th>\n",
       "    </tr>\n",
       "  </thead>\n",
       "  <tbody>\n",
       "  </tbody>\n",
       "</table>\n",
       "</div>"
      ],
      "text/plain": [
       "Empty DataFrame\n",
       "Columns: [concurso, data]\n",
       "Index: []"
      ]
     },
     "execution_count": 140,
     "metadata": {},
     "output_type": "execute_result"
    }
   ],
   "source": [
    "# df[df.duplicated()]\n",
    "df[df.duplicated(keep='last')]"
   ]
  },
  {
   "cell_type": "code",
   "execution_count": 141,
   "id": "d7d75be1-41f2-47dd-9db8-a892e76a56ea",
   "metadata": {},
   "outputs": [
    {
     "data": {
      "text/html": [
       "<div>\n",
       "<style scoped>\n",
       "    .dataframe tbody tr th:only-of-type {\n",
       "        vertical-align: middle;\n",
       "    }\n",
       "\n",
       "    .dataframe tbody tr th {\n",
       "        vertical-align: top;\n",
       "    }\n",
       "\n",
       "    .dataframe thead th {\n",
       "        text-align: right;\n",
       "    }\n",
       "</style>\n",
       "<table border=\"1\" class=\"dataframe\">\n",
       "  <thead>\n",
       "    <tr style=\"text-align: right;\">\n",
       "      <th></th>\n",
       "      <th>concurso</th>\n",
       "      <th>data</th>\n",
       "    </tr>\n",
       "  </thead>\n",
       "  <tbody>\n",
       "  </tbody>\n",
       "</table>\n",
       "</div>"
      ],
      "text/plain": [
       "Empty DataFrame\n",
       "Columns: [concurso, data]\n",
       "Index: []"
      ]
     },
     "execution_count": 141,
     "metadata": {},
     "output_type": "execute_result"
    }
   ],
   "source": [
    "df[df.duplicated(keep='first')]"
   ]
  },
  {
   "cell_type": "code",
   "execution_count": 142,
   "id": "2d8f9920-a4d9-4ecb-a7c1-a158701360df",
   "metadata": {},
   "outputs": [
    {
     "data": {
      "text/html": [
       "<div>\n",
       "<style scoped>\n",
       "    .dataframe tbody tr th:only-of-type {\n",
       "        vertical-align: middle;\n",
       "    }\n",
       "\n",
       "    .dataframe tbody tr th {\n",
       "        vertical-align: top;\n",
       "    }\n",
       "\n",
       "    .dataframe thead th {\n",
       "        text-align: right;\n",
       "    }\n",
       "</style>\n",
       "<table border=\"1\" class=\"dataframe\">\n",
       "  <thead>\n",
       "    <tr style=\"text-align: right;\">\n",
       "      <th></th>\n",
       "      <th>concurso</th>\n",
       "      <th>data</th>\n",
       "    </tr>\n",
       "  </thead>\n",
       "  <tbody>\n",
       "    <tr>\n",
       "      <th>0</th>\n",
       "      <td>1</td>\n",
       "      <td>18/02/2002</td>\n",
       "    </tr>\n",
       "    <tr>\n",
       "      <th>1</th>\n",
       "      <td>2</td>\n",
       "      <td>25/02/2002</td>\n",
       "    </tr>\n",
       "    <tr>\n",
       "      <th>2</th>\n",
       "      <td>3</td>\n",
       "      <td>04/03/2002</td>\n",
       "    </tr>\n",
       "    <tr>\n",
       "      <th>3</th>\n",
       "      <td>4</td>\n",
       "      <td>11/03/2002</td>\n",
       "    </tr>\n",
       "    <tr>\n",
       "      <th>4</th>\n",
       "      <td>5</td>\n",
       "      <td>18/03/2002</td>\n",
       "    </tr>\n",
       "    <tr>\n",
       "      <th>5</th>\n",
       "      <td>6</td>\n",
       "      <td>25/03/2002</td>\n",
       "    </tr>\n",
       "    <tr>\n",
       "      <th>6</th>\n",
       "      <td>7</td>\n",
       "      <td>01/04/2002</td>\n",
       "    </tr>\n",
       "    <tr>\n",
       "      <th>7</th>\n",
       "      <td>8</td>\n",
       "      <td>08/04/2002</td>\n",
       "    </tr>\n",
       "    <tr>\n",
       "      <th>8</th>\n",
       "      <td>9</td>\n",
       "      <td>18/04/2002</td>\n",
       "    </tr>\n",
       "    <tr>\n",
       "      <th>9</th>\n",
       "      <td>10</td>\n",
       "      <td>22/04/2002</td>\n",
       "    </tr>\n",
       "    <tr>\n",
       "      <th>10</th>\n",
       "      <td>11</td>\n",
       "      <td>29/04/2002</td>\n",
       "    </tr>\n",
       "    <tr>\n",
       "      <th>11</th>\n",
       "      <td>12</td>\n",
       "      <td>06/05/2002</td>\n",
       "    </tr>\n",
       "    <tr>\n",
       "      <th>12</th>\n",
       "      <td>13</td>\n",
       "      <td>13/05/2002</td>\n",
       "    </tr>\n",
       "    <tr>\n",
       "      <th>13</th>\n",
       "      <td>14</td>\n",
       "      <td>20/05/2002</td>\n",
       "    </tr>\n",
       "    <tr>\n",
       "      <th>14</th>\n",
       "      <td>15</td>\n",
       "      <td>27/05/2002</td>\n",
       "    </tr>\n",
       "    <tr>\n",
       "      <th>15</th>\n",
       "      <td>16</td>\n",
       "      <td>06/06/2002</td>\n",
       "    </tr>\n",
       "    <tr>\n",
       "      <th>16</th>\n",
       "      <td>17</td>\n",
       "      <td>11/06/2002</td>\n",
       "    </tr>\n",
       "    <tr>\n",
       "      <th>17</th>\n",
       "      <td>18</td>\n",
       "      <td>14/06/2002</td>\n",
       "    </tr>\n",
       "    <tr>\n",
       "      <th>18</th>\n",
       "      <td>19</td>\n",
       "      <td>18/06/2002</td>\n",
       "    </tr>\n",
       "    <tr>\n",
       "      <th>19</th>\n",
       "      <td>20</td>\n",
       "      <td>24/06/2002</td>\n",
       "    </tr>\n",
       "    <tr>\n",
       "      <th>20</th>\n",
       "      <td>21</td>\n",
       "      <td>01/07/2002</td>\n",
       "    </tr>\n",
       "    <tr>\n",
       "      <th>21</th>\n",
       "      <td>22</td>\n",
       "      <td>11/07/2002</td>\n",
       "    </tr>\n",
       "    <tr>\n",
       "      <th>22</th>\n",
       "      <td>23</td>\n",
       "      <td>15/07/2002</td>\n",
       "    </tr>\n",
       "    <tr>\n",
       "      <th>23</th>\n",
       "      <td>24</td>\n",
       "      <td>22/07/2002</td>\n",
       "    </tr>\n",
       "    <tr>\n",
       "      <th>24</th>\n",
       "      <td>25</td>\n",
       "      <td>30/07/2002</td>\n",
       "    </tr>\n",
       "  </tbody>\n",
       "</table>\n",
       "</div>"
      ],
      "text/plain": [
       "   concurso        data\n",
       "0         1  18/02/2002\n",
       "1         2  25/02/2002\n",
       "2         3  04/03/2002\n",
       "3         4  11/03/2002\n",
       "4         5  18/03/2002\n",
       "5         6  25/03/2002\n",
       "6         7  01/04/2002\n",
       "7         8  08/04/2002\n",
       "8         9  18/04/2002\n",
       "9        10  22/04/2002\n",
       "10       11  29/04/2002\n",
       "11       12  06/05/2002\n",
       "12       13  13/05/2002\n",
       "13       14  20/05/2002\n",
       "14       15  27/05/2002\n",
       "15       16  06/06/2002\n",
       "16       17  11/06/2002\n",
       "17       18  14/06/2002\n",
       "18       19  18/06/2002\n",
       "19       20  24/06/2002\n",
       "20       21  01/07/2002\n",
       "21       22  11/07/2002\n",
       "22       23  15/07/2002\n",
       "23       24  22/07/2002\n",
       "24       25  30/07/2002"
      ]
     },
     "execution_count": 142,
     "metadata": {},
     "output_type": "execute_result"
    }
   ],
   "source": [
    "df"
   ]
  },
  {
   "cell_type": "code",
   "execution_count": 102,
   "id": "5784eb9b-cb52-4b17-acae-14533de95fa6",
   "metadata": {},
   "outputs": [],
   "source": [
    "# df.to_csv('resultados.csv', index=False)"
   ]
  },
  {
   "cell_type": "code",
   "execution_count": null,
   "id": "e0fb10fc-5423-47cc-9db1-bd17dfb30ea6",
   "metadata": {},
   "outputs": [],
   "source": []
  }
 ],
 "metadata": {
  "kernelspec": {
   "display_name": "Python 3 (ipykernel)",
   "language": "python",
   "name": "python3"
  },
  "language_info": {
   "codemirror_mode": {
    "name": "ipython",
    "version": 3
   },
   "file_extension": ".py",
   "mimetype": "text/x-python",
   "name": "python",
   "nbconvert_exporter": "python",
   "pygments_lexer": "ipython3",
   "version": "3.11.5"
  }
 },
 "nbformat": 4,
 "nbformat_minor": 5
}
