{
 "cells": [
  {
   "cell_type": "code",
   "execution_count": 97,
   "id": "45642c3c-4007-4db4-90ea-7ff3c86f5e98",
   "metadata": {},
   "outputs": [],
   "source": [
    "# by geanclm on 02/02/2024"
   ]
  },
  {
   "cell_type": "code",
   "execution_count": 5,
   "id": "954ac313-58d0-4710-956b-f5d2ae8e517e",
   "metadata": {},
   "outputs": [],
   "source": [
    "# pip install selenium pyautogui\n",
    "# pip install webdriver-manager"
   ]
  },
  {
   "cell_type": "code",
   "execution_count": 35,
   "id": "774b9d3d-8663-4c1f-9988-b606a15084ea",
   "metadata": {},
   "outputs": [],
   "source": [
    "from selenium import webdriver\n",
    "from webdriver_manager.microsoft import EdgeChromiumDriverManager\n",
    "from selenium.webdriver.edge.service import Service\n",
    "from selenium.webdriver.common.by import By\n",
    "import pyautogui\n",
    "\n",
    "import time\n",
    "from datetime import datetime, timedelta\n",
    "\n",
    "import pyperclip\n",
    "import pandas as pd\n",
    "import numpy as np\n",
    "import re"
   ]
  },
  {
   "cell_type": "code",
   "execution_count": 2,
   "id": "d53fc9a2-cae6-440f-a468-e26f58d4a749",
   "metadata": {},
   "outputs": [],
   "source": [
    "# Avaliar o tempo de execução de cada modelo\n",
    "def hora():\n",
    "    agora = datetime.now()\n",
    "    hoje = agora - timedelta(days=0) # se precisar aprsentar a data do dia anterior basta inserir o '1' no lugar do '0'\n",
    "    print(hoje.strftime(\"%Y-%m-%d\") + ' ' + agora.strftime(\"%H:%M:%S\"))"
   ]
  },
  {
   "cell_type": "code",
   "execution_count": 3,
   "id": "e1092e6f-1393-49cb-9cb0-f409b9dd5d40",
   "metadata": {},
   "outputs": [],
   "source": [
    "# verificar posicionamento do cursor\n",
    "# time.sleep(5)\n",
    "# print(pyautogui.position())"
   ]
  },
  {
   "cell_type": "code",
   "execution_count": 94,
   "id": "2ac920f2-088f-4283-9783-401cd5f998ab",
   "metadata": {},
   "outputs": [
    {
     "name": "stdout",
     "output_type": "stream",
     "text": [
      "2024-02-03 18:23:44\n",
      "2024-02-03 18:35:22\n"
     ]
    }
   ],
   "source": [
    "# fazer varredura de dados\n",
    "hora()\n",
    "link = 'https://loterias.caixa.gov.br/Paginas/Loteca.aspx'\n",
    "# servico = Service(EdgeChromiumDriverManager().install())\n",
    "# navegador = webdriver.Edge(service=servico)\n",
    "service = Service()\n",
    "options = webdriver.EdgeOptions()\n",
    "navegador = webdriver.Edge(service=service, options=options)\n",
    "\n",
    "navegador.get(link)\n",
    "navegador.maximize_window()\n",
    "time.sleep(5)\n",
    "navegador.find_element('xpath','//*[@id=\"adopt-accept-all-button\"]').click()\n",
    "time.sleep(5)\n",
    "\n",
    "\n",
    "# Salvar dados da webpage em lista local\n",
    "resultados = []\n",
    "# for i in range(1095):\n",
    "for i in (repetidos):    \n",
    "    pyautogui.doubleClick(x=1431, y=573)\n",
    "    navegador.find_element('xpath', '//*[@id=\"buscaConcurso\"]').send_keys(str(i+1))\n",
    "    pyautogui.press('enter')\n",
    "    time.sleep(2)    \n",
    "    resultados.append(navegador.find_element(By.XPATH, '//*[@id=\"wp_resultados\"]/div[1]/div/h2/span').text)\n",
    "    time.sleep(1)\n",
    "\n",
    "\n",
    "# Salvar lista em dataframe\n",
    "# Função para extrair o número do concurso e a data usando expressões regulares\n",
    "def extrair_info(resultado):\n",
    "    match = re.search(r'Concurso (\\d+).*\\((\\d{2}/\\d{2}/\\d{4})\\)', resultado)\n",
    "    if match:\n",
    "        return match.group(1), match.group(2)\n",
    "    return None, None\n",
    "\n",
    "dados = [extrair_info(resultado) for resultado in resultados]\n",
    "df = pd.DataFrame(dados, columns=['concurso', 'data'])\n",
    "hora()"
   ]
  },
  {
   "cell_type": "code",
   "execution_count": 13,
   "id": "213c815f-3626-4a46-b79b-3f6f07af9202",
   "metadata": {},
   "outputs": [],
   "source": [
    "# tempo do primeiro teste realizado completo automatizado\n",
    "# 2024-02-03 14:43:10\n",
    "# 2024-02-03 15:43:53"
   ]
  },
  {
   "cell_type": "code",
   "execution_count": 100,
   "id": "348b1ff9-9f85-4959-81ec-532e3239855c",
   "metadata": {},
   "outputs": [
    {
     "data": {
      "text/html": [
       "<div>\n",
       "<style scoped>\n",
       "    .dataframe tbody tr th:only-of-type {\n",
       "        vertical-align: middle;\n",
       "    }\n",
       "\n",
       "    .dataframe tbody tr th {\n",
       "        vertical-align: top;\n",
       "    }\n",
       "\n",
       "    .dataframe thead th {\n",
       "        text-align: right;\n",
       "    }\n",
       "</style>\n",
       "<table border=\"1\" class=\"dataframe\">\n",
       "  <thead>\n",
       "    <tr style=\"text-align: right;\">\n",
       "      <th></th>\n",
       "      <th>concurso</th>\n",
       "      <th>data</th>\n",
       "    </tr>\n",
       "  </thead>\n",
       "  <tbody>\n",
       "    <tr>\n",
       "      <th>0</th>\n",
       "      <td>1095</td>\n",
       "      <td>29/01/2024</td>\n",
       "    </tr>\n",
       "    <tr>\n",
       "      <th>1</th>\n",
       "      <td>13</td>\n",
       "      <td>13/05/2002</td>\n",
       "    </tr>\n",
       "    <tr>\n",
       "      <th>2</th>\n",
       "      <td>14</td>\n",
       "      <td>20/05/2002</td>\n",
       "    </tr>\n",
       "    <tr>\n",
       "      <th>3</th>\n",
       "      <td>19</td>\n",
       "      <td>18/06/2002</td>\n",
       "    </tr>\n",
       "    <tr>\n",
       "      <th>4</th>\n",
       "      <td>20</td>\n",
       "      <td>24/06/2002</td>\n",
       "    </tr>\n",
       "    <tr>\n",
       "      <th>...</th>\n",
       "      <td>...</td>\n",
       "      <td>...</td>\n",
       "    </tr>\n",
       "    <tr>\n",
       "      <th>201</th>\n",
       "      <td>1059</td>\n",
       "      <td>05/06/2023</td>\n",
       "    </tr>\n",
       "    <tr>\n",
       "      <th>202</th>\n",
       "      <td>1062</td>\n",
       "      <td>15/06/2023</td>\n",
       "    </tr>\n",
       "    <tr>\n",
       "      <th>203</th>\n",
       "      <td>1062</td>\n",
       "      <td>15/06/2023</td>\n",
       "    </tr>\n",
       "    <tr>\n",
       "      <th>204</th>\n",
       "      <td>1070</td>\n",
       "      <td>24/07/2023</td>\n",
       "    </tr>\n",
       "    <tr>\n",
       "      <th>205</th>\n",
       "      <td>1082</td>\n",
       "      <td>16/10/2023</td>\n",
       "    </tr>\n",
       "  </tbody>\n",
       "</table>\n",
       "<p>206 rows × 2 columns</p>\n",
       "</div>"
      ],
      "text/plain": [
       "    concurso        data\n",
       "0       1095  29/01/2024\n",
       "1         13  13/05/2002\n",
       "2         14  20/05/2002\n",
       "3         19  18/06/2002\n",
       "4         20  24/06/2002\n",
       "..       ...         ...\n",
       "201     1059  05/06/2023\n",
       "202     1062  15/06/2023\n",
       "203     1062  15/06/2023\n",
       "204     1070  24/07/2023\n",
       "205     1082  16/10/2023\n",
       "\n",
       "[206 rows x 2 columns]"
      ]
     },
     "execution_count": 100,
     "metadata": {},
     "output_type": "execute_result"
    }
   ],
   "source": [
    "df"
   ]
  },
  {
   "cell_type": "code",
   "execution_count": 60,
   "id": "7fe3635b-440e-4899-82a6-0ac915d8caeb",
   "metadata": {},
   "outputs": [],
   "source": [
    "# Trabalho para ajustar o dataframe final das datas do concurso\n",
    "# repetidos1 = list(df[df.duplicated(keep='last')].concurso)\n",
    "# repetidos2 = list(df[df.duplicated(keep='first')].concurso)\n",
    "# lista_repetidos = list(set(repetidos1 + repetidos2))\n",
    "# lista_repetidos_n = list(map(int, lista_repetidos))"
   ]
  },
  {
   "cell_type": "code",
   "execution_count": 20,
   "id": "5784eb9b-cb52-4b17-acae-14533de95fa6",
   "metadata": {},
   "outputs": [],
   "source": [
    "# df.to_csv('resultados_com_linhas_repetidas.csv', index=False)"
   ]
  },
  {
   "cell_type": "code",
   "execution_count": 101,
   "id": "51f05975-7d39-4b03-b9e9-80057bd32b11",
   "metadata": {},
   "outputs": [],
   "source": [
    "df_concurso_data_loteca = pd.read_csv('concurso_data_loteca.csv')"
   ]
  },
  {
   "cell_type": "code",
   "execution_count": 102,
   "id": "71e10a2e-7fde-4f6e-8d64-0c67e44c89b5",
   "metadata": {},
   "outputs": [
    {
     "data": {
      "text/html": [
       "<div>\n",
       "<style scoped>\n",
       "    .dataframe tbody tr th:only-of-type {\n",
       "        vertical-align: middle;\n",
       "    }\n",
       "\n",
       "    .dataframe tbody tr th {\n",
       "        vertical-align: top;\n",
       "    }\n",
       "\n",
       "    .dataframe thead th {\n",
       "        text-align: right;\n",
       "    }\n",
       "</style>\n",
       "<table border=\"1\" class=\"dataframe\">\n",
       "  <thead>\n",
       "    <tr style=\"text-align: right;\">\n",
       "      <th></th>\n",
       "      <th>concurso</th>\n",
       "      <th>data</th>\n",
       "    </tr>\n",
       "  </thead>\n",
       "  <tbody>\n",
       "    <tr>\n",
       "      <th>65</th>\n",
       "      <td>66</td>\n",
       "      <td>26/05/2003</td>\n",
       "    </tr>\n",
       "    <tr>\n",
       "      <th>205</th>\n",
       "      <td>206</td>\n",
       "      <td>27/03/2006</td>\n",
       "    </tr>\n",
       "    <tr>\n",
       "      <th>208</th>\n",
       "      <td>209</td>\n",
       "      <td>17/04/2006</td>\n",
       "    </tr>\n",
       "    <tr>\n",
       "      <th>211</th>\n",
       "      <td>212</td>\n",
       "      <td>08/05/2006</td>\n",
       "    </tr>\n",
       "    <tr>\n",
       "      <th>213</th>\n",
       "      <td>214</td>\n",
       "      <td>22/05/2006</td>\n",
       "    </tr>\n",
       "    <tr>\n",
       "      <th>...</th>\n",
       "      <td>...</td>\n",
       "      <td>...</td>\n",
       "    </tr>\n",
       "    <tr>\n",
       "      <th>1057</th>\n",
       "      <td>1057</td>\n",
       "      <td>29/05/2023</td>\n",
       "    </tr>\n",
       "    <tr>\n",
       "      <th>1058</th>\n",
       "      <td>1057</td>\n",
       "      <td>29/05/2023</td>\n",
       "    </tr>\n",
       "    <tr>\n",
       "      <th>1061</th>\n",
       "      <td>1062</td>\n",
       "      <td>15/06/2023</td>\n",
       "    </tr>\n",
       "    <tr>\n",
       "      <th>1063</th>\n",
       "      <td>1064</td>\n",
       "      <td>23/06/2023</td>\n",
       "    </tr>\n",
       "    <tr>\n",
       "      <th>1081</th>\n",
       "      <td>1082</td>\n",
       "      <td>16/10/2023</td>\n",
       "    </tr>\n",
       "  </tbody>\n",
       "</table>\n",
       "<p>173 rows × 2 columns</p>\n",
       "</div>"
      ],
      "text/plain": [
       "      concurso        data\n",
       "65          66  26/05/2003\n",
       "205        206  27/03/2006\n",
       "208        209  17/04/2006\n",
       "211        212  08/05/2006\n",
       "213        214  22/05/2006\n",
       "...        ...         ...\n",
       "1057      1057  29/05/2023\n",
       "1058      1057  29/05/2023\n",
       "1061      1062  15/06/2023\n",
       "1063      1064  23/06/2023\n",
       "1081      1082  16/10/2023\n",
       "\n",
       "[173 rows x 2 columns]"
      ]
     },
     "execution_count": 102,
     "metadata": {},
     "output_type": "execute_result"
    }
   ],
   "source": [
    "df_concurso_data_loteca[df_concurso_data_loteca.duplicated(keep = 'last')]"
   ]
  },
  {
   "cell_type": "code",
   "execution_count": 104,
   "id": "29f307ed-9dc8-4a12-abac-fc1734b78abd",
   "metadata": {},
   "outputs": [],
   "source": [
    "# repetidos = df_concurso_data_loteca[df_concurso_data_loteca.duplicated(keep = 'last')]\n",
    "# repetidos"
   ]
  },
  {
   "cell_type": "code",
   "execution_count": 83,
   "id": "69c8f454-aef3-4bf5-a84d-6ca0abb2ab1e",
   "metadata": {},
   "outputs": [],
   "source": [
    "# apagar linhas do dataframe de acordo com array\n",
    "# df_data.drop(repetidos, inplace=True)"
   ]
  }
 ],
 "metadata": {
  "kernelspec": {
   "display_name": "Python 3 (ipykernel)",
   "language": "python",
   "name": "python3"
  },
  "language_info": {
   "codemirror_mode": {
    "name": "ipython",
    "version": 3
   },
   "file_extension": ".py",
   "mimetype": "text/x-python",
   "name": "python",
   "nbconvert_exporter": "python",
   "pygments_lexer": "ipython3",
   "version": "3.11.5"
  }
 },
 "nbformat": 4,
 "nbformat_minor": 5
}
